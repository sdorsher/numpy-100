{
 "cells": [
  {
   "cell_type": "markdown",
   "metadata": {},
   "source": [
    "# 100 numpy exercises\n",
    "\n",
    "This is a collection of exercises that have been collected in the numpy mailing list, on stack overflow and in the numpy documentation. The goal of this collection is to offer a quick reference for both old and new users but also to provide a set of exercises for those who teach.\n",
    "\n",
    "\n",
    "If you find an error or think you've a better way to solve some of them, feel free to open an issue at <https://github.com/rougier/numpy-100>"
   ]
  },
  {
   "cell_type": "markdown",
   "metadata": {},
   "source": [
    "#### 1. Import the numpy package under the name `np` (★☆☆)"
   ]
  },
  {
   "cell_type": "code",
   "execution_count": 2,
   "metadata": {},
   "outputs": [],
   "source": [
    "import numpy as np"
   ]
  },
  {
   "cell_type": "markdown",
   "metadata": {},
   "source": [
    "#### 2. Print the numpy version and the configuration (★☆☆)"
   ]
  },
  {
   "cell_type": "code",
   "execution_count": 4,
   "metadata": {},
   "outputs": [
    {
     "name": "stdout",
     "output_type": "stream",
     "text": [
      "1.14.0\n"
     ]
    }
   ],
   "source": [
    "print(np.__version__)"
   ]
  },
  {
   "cell_type": "markdown",
   "metadata": {},
   "source": [
    "#### 3. Create a null vector of size 10 (★☆☆)"
   ]
  },
  {
   "cell_type": "code",
   "execution_count": 35,
   "metadata": {},
   "outputs": [
    {
     "name": "stdout",
     "output_type": "stream",
     "text": [
      "[0. 0. 0. 0. 0. 0. 0. 0. 0. 0.]\n"
     ]
    }
   ],
   "source": [
    "x=np.zeros(10)\n",
    "print(x)"
   ]
  },
  {
   "cell_type": "markdown",
   "metadata": {},
   "source": [
    "#### 4.  How to find the memory size of any array (★☆☆)"
   ]
  },
  {
   "cell_type": "code",
   "execution_count": 6,
   "metadata": {},
   "outputs": [
    {
     "name": "stdout",
     "output_type": "stream",
     "text": [
      "10\n"
     ]
    }
   ],
   "source": [
    "print(len(x))"
   ]
  },
  {
   "cell_type": "markdown",
   "metadata": {},
   "source": [
    "#### 5.  How to get the documentation of the numpy add function from the command line? (★☆☆)"
   ]
  },
  {
   "cell_type": "code",
   "execution_count": 12,
   "metadata": {},
   "outputs": [
    {
     "name": "stdout",
     "output_type": "stream",
     "text": [
      "add(x1, x2, /, out=None, *, where=True, casting='same_kind', order='K', dtype=None, subok=True[, signature, extobj])\n",
      "\n",
      "Add arguments element-wise.\n",
      "\n",
      "Parameters\n",
      "----------\n",
      "x1, x2 : array_like\n",
      "    The arrays to be added.  If ``x1.shape != x2.shape``, they must be\n",
      "    broadcastable to a common shape (which may be the shape of one or\n",
      "    the other).\n",
      "out : ndarray, None, or tuple of ndarray and None, optional\n",
      "    A location into which the result is stored. If provided, it must have\n",
      "    a shape that the inputs broadcast to. If not provided or `None`,\n",
      "    a freshly-allocated array is returned. A tuple (possible only as a\n",
      "    keyword argument) must have length equal to the number of outputs.\n",
      "where : array_like, optional\n",
      "    Values of True indicate to calculate the ufunc at that position, values\n",
      "    of False indicate to leave the value in the output alone.\n",
      "**kwargs\n",
      "    For other keyword-only arguments, see the\n",
      "    :ref:`ufunc docs <ufuncs.kwargs>`.\n",
      "\n",
      "Returns\n",
      "-------\n",
      "add : ndarray or scalar\n",
      "    The sum of `x1` and `x2`, element-wise.  Returns a scalar if\n",
      "    both  `x1` and `x2` are scalars.\n",
      "\n",
      "Notes\n",
      "-----\n",
      "Equivalent to `x1` + `x2` in terms of array broadcasting.\n",
      "\n",
      "Examples\n",
      "--------\n",
      ">>> np.add(1.0, 4.0)\n",
      "5.0\n",
      ">>> x1 = np.arange(9.0).reshape((3, 3))\n",
      ">>> x2 = np.arange(3.0)\n",
      ">>> np.add(x1, x2)\n",
      "array([[  0.,   2.,   4.],\n",
      "       [  3.,   5.,   7.],\n",
      "       [  6.,   8.,  10.]])\n"
     ]
    }
   ],
   "source": [
    "print(np.add.__doc__)"
   ]
  },
  {
   "cell_type": "markdown",
   "metadata": {},
   "source": [
    "#### 6.  Create a null vector of size 10 but the fifth value which is 1 (★☆☆)"
   ]
  },
  {
   "cell_type": "code",
   "execution_count": 34,
   "metadata": {},
   "outputs": [
    {
     "name": "stdout",
     "output_type": "stream",
     "text": [
      "[0. 0. 0. 0. 1. 0. 0. 0. 0. 0.]\n"
     ]
    }
   ],
   "source": [
    "x[4]=1\n",
    "print(x)"
   ]
  },
  {
   "cell_type": "markdown",
   "metadata": {},
   "source": [
    "#### 7.  Create a vector with values ranging from 10 to 49 (★☆☆)"
   ]
  },
  {
   "cell_type": "code",
   "execution_count": 33,
   "metadata": {},
   "outputs": [
    {
     "name": "stdout",
     "output_type": "stream",
     "text": [
      "[10 11 12 13 14 15 16 17 18 19 20 21 22 23 24 25 26 27 28 29 30 31 32 33\n",
      " 34 35 36 37 38 39 40 41 42 43 44 45 46 47 48 49]\n"
     ]
    }
   ],
   "source": [
    "y=np.arange(10,50)\n",
    "print(y)"
   ]
  },
  {
   "cell_type": "markdown",
   "metadata": {},
   "source": [
    "#### 8.  Reverse a vector (first element becomes last) (★☆☆)"
   ]
  },
  {
   "cell_type": "code",
   "execution_count": 32,
   "metadata": {},
   "outputs": [
    {
     "name": "stdout",
     "output_type": "stream",
     "text": [
      "[49, 48, 47, 46, 45, 44, 43, 42, 41, 40, 39, 38, 37, 36, 35, 34, 33, 32, 31, 30, 29, 28, 27, 26, 25, 24, 23, 22, 21, 20, 19, 18, 17, 16, 15, 14, 13, 12, 11, 10]\n"
     ]
    }
   ],
   "source": [
    "z=[]\n",
    "for i in np.arange(len(y)-1,-1,-1):\n",
    "    z.append(y[i])\n",
    "print(z)"
   ]
  },
  {
   "cell_type": "markdown",
   "metadata": {},
   "source": [
    "#### 9.  Create a 3x3 matrix with values ranging from 0 to 8 (★☆☆)"
   ]
  },
  {
   "cell_type": "code",
   "execution_count": 23,
   "metadata": {},
   "outputs": [
    {
     "data": {
      "text/plain": [
       "array([[0, 1, 2],\n",
       "       [3, 4, 5],\n",
       "       [6, 7, 8]])"
      ]
     },
     "execution_count": 23,
     "metadata": {},
     "output_type": "execute_result"
    }
   ],
   "source": [
    "w=np.arange(0,9)\n",
    "w.reshape(3,3)"
   ]
  },
  {
   "cell_type": "markdown",
   "metadata": {},
   "source": [
    "#### 10. Find indices of non-zero elements from \\[1,2,0,0,4,0\\] (★☆☆)"
   ]
  },
  {
   "cell_type": "code",
   "execution_count": 25,
   "metadata": {},
   "outputs": [
    {
     "name": "stdout",
     "output_type": "stream",
     "text": [
      "[0, 1, 4]\n"
     ]
    }
   ],
   "source": [
    "list=[1,2,0,0,4,0]\n",
    "indices=[]\n",
    "for i in np.arange(len(list)):\n",
    "    if(list[i]!=0):\n",
    "        indices.append(i)\n",
    "print(indices)"
   ]
  },
  {
   "cell_type": "markdown",
   "metadata": {},
   "source": [
    "#### 11. Create a 3x3 identity matrix (★☆☆)"
   ]
  },
  {
   "cell_type": "code",
   "execution_count": 31,
   "metadata": {},
   "outputs": [
    {
     "name": "stdout",
     "output_type": "stream",
     "text": [
      "[[1. 0. 0.]\n",
      " [0. 1. 0.]\n",
      " [0. 0. 1.]]\n"
     ]
    }
   ],
   "source": [
    "ident= np.eye(3,3)\n",
    "print(ident)"
   ]
  },
  {
   "cell_type": "markdown",
   "metadata": {},
   "source": [
    "#### 12. Create a 3x3x3 array with random values (★☆☆)"
   ]
  },
  {
   "cell_type": "code",
   "execution_count": 29,
   "metadata": {},
   "outputs": [
    {
     "name": "stdout",
     "output_type": "stream",
     "text": [
      "[[[0.4327709  0.96638883 0.60118459]\n",
      "  [0.08101943 0.16204192 0.09553373]\n",
      "  [0.83852072 0.19851152 0.41593161]]\n",
      "\n",
      " [[0.18947019 0.22464406 0.49183073]\n",
      "  [0.89075215 0.08401826 0.42561393]\n",
      "  [0.90150479 0.93521722 0.32058279]]\n",
      "\n",
      " [[0.465467   0.94250229 0.73635299]\n",
      "  [0.98347963 0.92059766 0.9788372 ]\n",
      "  [0.78457156 0.44148042 0.53008142]]]\n"
     ]
    }
   ],
   "source": [
    "from numpy.random import uniform\n",
    "randommatrix = uniform(low=0.0,high=1.0,size=[3,3,3])\n",
    "print(randommatrix)"
   ]
  },
  {
   "cell_type": "markdown",
   "metadata": {},
   "source": [
    "#### 13. Create a 10x10 array with random values and find the minimum and maximum values (★☆☆)"
   ]
  },
  {
   "cell_type": "code",
   "execution_count": 39,
   "metadata": {},
   "outputs": [
    {
     "name": "stdout",
     "output_type": "stream",
     "text": [
      "3.000593621179714\n",
      "4.993116212992025\n"
     ]
    }
   ],
   "source": [
    "from numpy.random import uniform\n",
    "randmat2 = uniform(low=3.0,high=5.0,size=[10,10])\n",
    "print(randmat2[:].min())\n",
    "print(randmat2[:].max())"
   ]
  },
  {
   "cell_type": "markdown",
   "metadata": {},
   "source": [
    "#### 14. Create a random vector of size 30 and find the mean value (★☆☆)"
   ]
  },
  {
   "cell_type": "code",
   "execution_count": 42,
   "metadata": {},
   "outputs": [
    {
     "name": "stdout",
     "output_type": "stream",
     "text": [
      "6.566909156406882\n"
     ]
    }
   ],
   "source": [
    "from numpy.random import normal\n",
    "randmat3 = normal(5.0,10.0,[30])\n",
    "print(randmat3.mean())"
   ]
  },
  {
   "cell_type": "markdown",
   "metadata": {},
   "source": [
    "#### 15. Create a 2d array with 1 on the border and 0 inside (★☆☆)"
   ]
  },
  {
   "cell_type": "code",
   "execution_count": 82,
   "metadata": {},
   "outputs": [
    {
     "name": "stdout",
     "output_type": "stream",
     "text": [
      "[[1. 1. 1. 1. 1. 1.]\n",
      " [1. 0. 0. 0. 0. 1.]\n",
      " [1. 0. 0. 0. 0. 1.]\n",
      " [1. 1. 1. 1. 1. 1.]]\n"
     ]
    }
   ],
   "source": [
    "borderarr=np.zeros([4,6])\n",
    "borderarr[0,:]=1\n",
    "borderarr[3,:]=1\n",
    "borderarr[:,5]=1\n",
    "borderarr[:,0]=1\n",
    "print(borderarr)"
   ]
  },
  {
   "cell_type": "markdown",
   "metadata": {},
   "source": [
    "#### 16. How to add a border (filled with 0's) around an existing array? (★☆☆)"
   ]
  },
  {
   "cell_type": "code",
   "execution_count": 91,
   "metadata": {},
   "outputs": [
    {
     "name": "stdout",
     "output_type": "stream",
     "text": [
      "[[0. 0. 0. 0. 0. 0. 0. 0.]\n",
      " [0. 1. 1. 1. 1. 1. 1. 0.]\n",
      " [0. 1. 0. 0. 0. 0. 1. 0.]\n",
      " [0. 1. 0. 0. 0. 0. 1. 0.]\n",
      " [0. 1. 1. 1. 1. 1. 1. 0.]\n",
      " [0. 0. 0. 0. 0. 0. 0. 0.]]\n"
     ]
    }
   ],
   "source": [
    "oldshape=borderarr.shape\n",
    "#lets do this the C++ way\n",
    "newarr=np.zeros([oldshape[0]+2,oldshape[1]+2])\n",
    "newarr[0,:]=np.zeros([1,oldshape[1]+2])\n",
    "newarr[oldshape[0]+1,:]=np.zeros([1,oldshape[1]+2])\n",
    "for i in np.arange(1,oldshape[0]+1):\n",
    "    for j in np.arange(oldshape[1]+2):\n",
    "        if(j==0) or (j==oldshape[1]+1):\n",
    "            newarr[i,j]=0\n",
    "        else:\n",
    "            newarr[i,j]=borderarr[i-1,j-1]\n",
    "print(newarr)\n",
    "        "
   ]
  },
  {
   "cell_type": "markdown",
   "metadata": {},
   "source": [
    "#### 17. What is the result of the following expression? (★☆☆)"
   ]
  },
  {
   "cell_type": "markdown",
   "metadata": {},
   "source": [
    "```python\n",
    "0 * np.nan\n",
    "np.nan == np.nan\n",
    "np.inf > np.nan\n",
    "np.nan - np.nan\n",
    "0.3 == 3 * 0.1\n",
    "```"
   ]
  },
  {
   "cell_type": "code",
   "execution_count": 100,
   "metadata": {},
   "outputs": [
    {
     "data": {
      "text/plain": [
       "False"
      ]
     },
     "execution_count": 100,
     "metadata": {},
     "output_type": "execute_result"
    }
   ],
   "source": [
    "False"
   ]
  },
  {
   "cell_type": "markdown",
   "metadata": {},
   "source": [
    "#### 18. Create a 5x5 matrix with values 1,2,3,4 just below the diagonal (★☆☆)"
   ]
  },
  {
   "cell_type": "code",
   "execution_count": 106,
   "metadata": {},
   "outputs": [
    {
     "data": {
      "text/plain": [
       "array([[0, 0, 0, 0],\n",
       "       [1, 0, 0, 0],\n",
       "       [0, 2, 0, 0],\n",
       "       [0, 0, 3, 0],\n",
       "       [0, 0, 0, 4]])"
      ]
     },
     "execution_count": 106,
     "metadata": {},
     "output_type": "execute_result"
    }
   ],
   "source": [
    "diagcount=np.diagflat([1,2,3,4])\n",
    "np.insert(diagcount,0,0,axis=1)\n",
    "np.insert(diagcount,0,0,axis=0)"
   ]
  },
  {
   "cell_type": "markdown",
   "metadata": {},
   "source": [
    "#### 19. Create a 8x8 matrix and fill it with a checkerboard pattern (★☆☆)"
   ]
  },
  {
   "cell_type": "code",
   "execution_count": 109,
   "metadata": {},
   "outputs": [
    {
     "name": "stdout",
     "output_type": "stream",
     "text": [
      "[[1. 0. 1. 0. 1. 0. 1. 0.]\n",
      " [0. 1. 0. 1. 0. 1. 0. 1.]\n",
      " [1. 0. 1. 0. 1. 0. 1. 0.]\n",
      " [0. 1. 0. 1. 0. 1. 0. 1.]\n",
      " [1. 0. 1. 0. 1. 0. 1. 0.]\n",
      " [0. 1. 0. 1. 0. 1. 0. 1.]\n",
      " [1. 0. 1. 0. 1. 0. 1. 0.]\n",
      " [0. 1. 0. 1. 0. 1. 0. 1.]]\n"
     ]
    }
   ],
   "source": [
    "checkerboard=np.zeros([8,8])\n",
    "checkerboard[::2,::2]=1\n",
    "checkerboard[1::2,1::2]=1\n",
    "print(checkerboard)"
   ]
  },
  {
   "cell_type": "markdown",
   "metadata": {},
   "source": [
    "#### 20. Consider a (6,7,8) shape array, what is the index (x,y,z) of the 100th element?"
   ]
  },
  {
   "cell_type": "code",
   "execution_count": 129,
   "metadata": {},
   "outputs": [
    {
     "name": "stdout",
     "output_type": "stream",
     "text": [
      "[1, 5, 3]\n"
     ]
    }
   ],
   "source": [
    "100-7*8-5*8-4\n",
    "print ([1,5,3])"
   ]
  },
  {
   "cell_type": "markdown",
   "metadata": {},
   "source": [
    "#### 21. Create a checkerboard 8x8 matrix using the tile function (★☆☆)"
   ]
  },
  {
   "cell_type": "code",
   "execution_count": 7,
   "metadata": {},
   "outputs": [
    {
     "name": "stdout",
     "output_type": "stream",
     "text": [
      "[[1. 1. 0. 0. 1. 1. 0. 0.]\n",
      " [1. 1. 0. 0. 1. 1. 0. 0.]\n",
      " [0. 0. 1. 1. 0. 0. 1. 1.]\n",
      " [0. 0. 1. 1. 0. 0. 1. 1.]\n",
      " [1. 1. 0. 0. 1. 1. 0. 0.]\n",
      " [1. 1. 0. 0. 1. 1. 0. 0.]\n",
      " [0. 0. 1. 1. 0. 0. 1. 1.]\n",
      " [0. 0. 1. 1. 0. 0. 1. 1.]]\n"
     ]
    }
   ],
   "source": [
    "import numpy as np\n",
    "typea2=np.ones([2,2])\n",
    "typeb2=np.zeros([2,2])\n",
    "row1=np.concatenate((typea2,typeb2), axis=0)\n",
    "row2=np.concatenate((typeb2,typea2),axis=0)\n",
    "square=np.concatenate((row1,row2),axis=1)\n",
    "bigsquare=np.tile(square,(2,2))\n",
    "print(bigsquare)"
   ]
  },
  {
   "cell_type": "markdown",
   "metadata": {},
   "source": [
    "#### 22. Normalize a 5x5 random matrix (★☆☆)"
   ]
  },
  {
   "cell_type": "code",
   "execution_count": 3,
   "metadata": {},
   "outputs": [
    {
     "name": "stdout",
     "output_type": "stream",
     "text": [
      "[[-0.03996929 -0.18318606  0.53614163 -0.10516751  0.39277073]\n",
      " [ 0.38874742  0.33658036  0.50216681 -0.34739682 -0.40717004]\n",
      " [ 0.18422382 -0.29616751 -0.4403114  -0.3537931   0.15375511]\n",
      " [-0.34639231 -0.38759606 -0.4313855   0.03577716  0.1602744 ]\n",
      " [-0.32491197  0.5596886   0.38024103 -0.35088553  0.38396603]]\n"
     ]
    }
   ],
   "source": [
    "from numpy.random import uniform\n",
    "rndtonorm=uniform(-5,-2,[5,5])\n",
    "rndnorm=rndtonorm-rndtonorm.mean()\n",
    "rangenorm=rndnorm.max()-rndnorm.min()\n",
    "rndnorm=rndnorm/rangenorm\n",
    "print(rndnorm)"
   ]
  },
  {
   "cell_type": "markdown",
   "metadata": {},
   "source": [
    "#### 23. Create a custom dtype that describes a color as four unsigned bytes (RGBA) (★☆☆)"
   ]
  },
  {
   "cell_type": "code",
   "execution_count": null,
   "metadata": {
    "collapsed": true
   },
   "outputs": [],
   "source": []
  },
  {
   "cell_type": "markdown",
   "metadata": {},
   "source": [
    "#### 24. Multiply a 5x3 matrix by a 3x2 matrix (real matrix product) (★☆☆)"
   ]
  },
  {
   "cell_type": "code",
   "execution_count": 7,
   "metadata": {},
   "outputs": [
    {
     "data": {
      "text/plain": [
       "array([[0.94648675, 0.82135495],\n",
       "       [0.37329883, 0.35312726],\n",
       "       [1.29958582, 1.16451469],\n",
       "       [0.94093473, 0.772226  ],\n",
       "       [0.4437275 , 0.35526766]])"
      ]
     },
     "execution_count": 7,
     "metadata": {},
     "output_type": "execute_result"
    }
   ],
   "source": [
    "import numpy as np\n",
    "matrix24a=uniform(0,1,[5,3])\n",
    "matrix24b=uniform(0,1,[3,2])\n",
    "np.matmul(matrix24a,matrix24b)"
   ]
  },
  {
   "cell_type": "markdown",
   "metadata": {},
   "source": [
    "#### 25. Given a 1D array, negate all elements which are between 3 and 8, in place. (★☆☆)"
   ]
  },
  {
   "cell_type": "code",
   "execution_count": 22,
   "metadata": {},
   "outputs": [
    {
     "name": "stdout",
     "output_type": "stream",
     "text": [
      "[ 0  1  2 -3 -4 -5 -6 -7 -8  9 10 11 12 13 14 15 16 17 18 19 20 21 22 23\n",
      " 24]\n"
     ]
    }
   ],
   "source": [
    "array25=np.arange(25)\n",
    "for i in np.arange(len(array25)):\n",
    "    if((array25[i]<=8) and (array25[i]>=3)):\n",
    "        array25[i]*=-1\n",
    "print(array25)\n"
   ]
  },
  {
   "cell_type": "markdown",
   "metadata": {},
   "source": [
    "#### 26. What is the output of the following script? (★☆☆)"
   ]
  },
  {
   "cell_type": "markdown",
   "metadata": {},
   "source": [
    "```python\n",
    "# Author: Jake VanderPlas\n",
    "\n",
    "print(sum(range(5),-1))\n",
    "from numpy import *\n",
    "print(sum(range(5),-1))\n",
    "```"
   ]
  },
  {
   "cell_type": "code",
   "execution_count": 25,
   "metadata": {},
   "outputs": [
    {
     "data": {
      "text/plain": [
       "9"
      ]
     },
     "execution_count": 25,
     "metadata": {},
     "output_type": "execute_result"
    }
   ],
   "source": [
    "9"
   ]
  },
  {
   "cell_type": "markdown",
   "metadata": {},
   "source": [
    "#### 27. Consider an integer vector Z, which of these expressions are legal? (★☆☆)"
   ]
  },
  {
   "cell_type": "markdown",
   "metadata": {},
   "source": [
    "```python\n",
    "Z**Z\n",
    "2 << Z >> 2\n",
    "Z <- Z\n",
    "1j*Z\n",
    "Z/1/1\n",
    "Z<Z>Z\n",
    "```"
   ]
  },
  {
   "cell_type": "code",
   "execution_count": 27,
   "metadata": {},
   "outputs": [
    {
     "ename": "NameError",
     "evalue": "name 'z' is not defined",
     "output_type": "error",
     "traceback": [
      "\u001b[0;31m---------------------------------------------------------------------------\u001b[0m",
      "\u001b[0;31mNameError\u001b[0m                                 Traceback (most recent call last)",
      "\u001b[0;32m<ipython-input-27-0f0fa6c6e25c>\u001b[0m in \u001b[0;36m<module>\u001b[0;34m()\u001b[0m\n\u001b[0;32m----> 1\u001b[0;31m \u001b[0;36m1j\u001b[0m\u001b[0;34m*\u001b[0m\u001b[0mz\u001b[0m\u001b[0;34m,\u001b[0m \u001b[0mZ\u001b[0m\u001b[0;34m/\u001b[0m\u001b[0;36m1\u001b[0m\u001b[0;34m/\u001b[0m\u001b[0;36m1\u001b[0m\u001b[0;34m\u001b[0m\u001b[0m\n\u001b[0m",
      "\u001b[0;31mNameError\u001b[0m: name 'z' is not defined"
     ]
    }
   ],
   "source": [
    "1j*z, Z/1/1"
   ]
  },
  {
   "cell_type": "markdown",
   "metadata": {},
   "source": [
    "#### 28. What are the result of the following expressions?"
   ]
  },
  {
   "cell_type": "markdown",
   "metadata": {},
   "source": [
    "```python\n",
    "np.array(0) / np.array(0)\n",
    "np.array(0) // np.array(0)\n",
    "np.array([np.nan]).astype(int).astype(float)\n",
    "```"
   ]
  },
  {
   "cell_type": "code",
   "execution_count": 30,
   "metadata": {},
   "outputs": [
    {
     "data": {
      "text/plain": [
       "array([-9.22337204e+18])"
      ]
     },
     "execution_count": 30,
     "metadata": {},
     "output_type": "execute_result"
    }
   ],
   "source": [
    "np.array([np.nan]).astype(int).astype(float)"
   ]
  },
  {
   "cell_type": "markdown",
   "metadata": {},
   "source": [
    "#### 29. How to round away from zero a float array ? (★☆☆)"
   ]
  },
  {
   "cell_type": "code",
   "execution_count": 41,
   "metadata": {},
   "outputs": [
    {
     "name": "stdout",
     "output_type": "stream",
     "text": [
      "[ 0.   0.1  0.2 -0.3 -0.4 -0.5 -0.6 -0.7 -0.8  0.9  1.   1.1  1.2  1.3\n",
      "  1.4  1.5  1.6  1.7  1.8  1.9  2.   2.1  2.2  2.3  2.4]\n",
      "[ 0.  1.  1. -1. -1. -1. -1. -1. -1.  1.  1.  2.  2.  2.  2.  2.  2.  2.\n",
      "  2.  2.  2.  3.  3.  3.  3.]\n"
     ]
    }
   ],
   "source": [
    "temp=array25*.1\n",
    "print(temp)\n",
    "signarr=np.zeros(len(array25))\n",
    "for i in np.arange(len(array25)):\n",
    "        if array25[i]<0:\n",
    "            signarr[i]=-1    \n",
    "        elif array25[i]>0:\n",
    "            signarr[i]=1\n",
    "        else:\n",
    "            signarr[i]=0\n",
    "roundoutarr=signarr*np.ceil(signarr*temp)\n",
    "print(roundoutarr)"
   ]
  },
  {
   "cell_type": "markdown",
   "metadata": {},
   "source": [
    "#### 30. How to find common values between two arrays? (★☆☆)"
   ]
  },
  {
   "cell_type": "code",
   "execution_count": 43,
   "metadata": {},
   "outputs": [
    {
     "data": {
      "text/plain": [
       "array([0., 1., 2., 3.])"
      ]
     },
     "execution_count": 43,
     "metadata": {},
     "output_type": "execute_result"
    }
   ],
   "source": [
    "np.intersect1d(roundoutarr,np.arange(5))"
   ]
  },
  {
   "cell_type": "markdown",
   "metadata": {},
   "source": [
    "#### 31. How to ignore all numpy warnings (not recommended)? (★☆☆)"
   ]
  },
  {
   "cell_type": "code",
   "execution_count": null,
   "metadata": {},
   "outputs": [],
   "source": [
    "numpy.testing.suppress_warnings_dont"
   ]
  },
  {
   "cell_type": "markdown",
   "metadata": {},
   "source": [
    "#### 32. Is the following expressions true? (★☆☆)"
   ]
  },
  {
   "cell_type": "markdown",
   "metadata": {},
   "source": [
    "```python\n",
    "np.sqrt(-1) == np.emath.sqrt(-1)\n",
    "```"
   ]
  },
  {
   "cell_type": "code",
   "execution_count": 45,
   "metadata": {},
   "outputs": [
    {
     "data": {
      "text/plain": [
       "1j"
      ]
     },
     "execution_count": 45,
     "metadata": {},
     "output_type": "execute_result"
    }
   ],
   "source": [
    "np.emath.sqrt(-1)"
   ]
  },
  {
   "cell_type": "markdown",
   "metadata": {},
   "source": [
    "#### 33. How to get the dates of yesterday, today and tomorrow? (★☆☆)"
   ]
  },
  {
   "cell_type": "code",
   "execution_count": 52,
   "metadata": {},
   "outputs": [
    {
     "name": "stdout",
     "output_type": "stream",
     "text": [
      "2019-05-01 2019-05-02 2019-05-03\n"
     ]
    }
   ],
   "source": [
    "today=np.datetime64('today')\n",
    "print(today-1,today,today+1)"
   ]
  },
  {
   "cell_type": "markdown",
   "metadata": {},
   "source": [
    "#### 34. How to get all the dates corresponding to the month of July 2016? (★★☆)"
   ]
  },
  {
   "cell_type": "code",
   "execution_count": 64,
   "metadata": {},
   "outputs": [
    {
     "name": "stdout",
     "output_type": "stream",
     "text": [
      "2016-07-01\n",
      "2016-07-02\n",
      "2016-07-03\n",
      "2016-07-04\n",
      "2016-07-05\n",
      "2016-07-06\n",
      "2016-07-07\n",
      "2016-07-08\n",
      "2016-07-09\n",
      "2016-07-10\n",
      "2016-07-11\n",
      "2016-07-12\n",
      "2016-07-13\n",
      "2016-07-14\n",
      "2016-07-15\n",
      "2016-07-16\n",
      "2016-07-17\n",
      "2016-07-18\n",
      "2016-07-19\n",
      "2016-07-20\n",
      "2016-07-21\n",
      "2016-07-22\n",
      "2016-07-23\n",
      "2016-07-24\n",
      "2016-07-25\n",
      "2016-07-26\n",
      "2016-07-27\n",
      "2016-07-28\n",
      "2016-07-29\n",
      "2016-07-30\n"
     ]
    }
   ],
   "source": [
    "import datetime\n",
    "for day in np.arange(1,31):\n",
    "    print(datetime.date(2016,7,day))"
   ]
  },
  {
   "cell_type": "markdown",
   "metadata": {},
   "source": [
    "#### 35. How to compute ((A+B)\\*(-A/2)) in place (without copy)? (★★☆)"
   ]
  },
  {
   "cell_type": "code",
   "execution_count": 82,
   "metadata": {
    "scrolled": true
   },
   "outputs": [
    {
     "name": "stdout",
     "output_type": "stream",
     "text": [
      "[1.0, 2.0, 4.0, 7.0]\n",
      "[3.0, 5.0, 6.0, 9.0]\n",
      "4.0\n",
      "-0.5\n",
      "7.0\n",
      "-1.0\n",
      "10.0\n",
      "-2.0\n",
      "16.0\n",
      "-3.5\n",
      "[0.5, 0.14285714285714285, 0.01, 6.103515625e-05]\n"
     ]
    }
   ],
   "source": [
    "A=[1.,2.,4.,7.]\n",
    "B=[3.,5.,6.,9.]\n",
    "print(A)\n",
    "print(B)\n",
    "for i in np.arange(len(A)):\n",
    "    print(A[i]+B[i])\n",
    "    print(-A[i]/2.)\n",
    "    A[i]=(A[i]+B[i])**(-A[i]/2.)\n",
    "print(A)\n"
   ]
  },
  {
   "cell_type": "markdown",
   "metadata": {},
   "source": [
    "#### 36. Extract the integer part of a random array using 5 different methods (★★☆)"
   ]
  },
  {
   "cell_type": "code",
   "execution_count": 92,
   "metadata": {},
   "outputs": [
    {
     "name": "stdout",
     "output_type": "stream",
     "text": [
      "[100.  67.  31.  53.   8.  85.  87.  43.  68.   2.]\n",
      "[99. 66. 30. 52.  7. 84. 86. 42. 67.  1.]\n",
      "[99. 66. 30. 52.  7. 84. 86. 42. 67.  1.]\n",
      "[99. 67. 31. 53.  8. 85. 87. 43. 67.  2.]\n",
      "[0 0 1 0 0 0 0 1 1 0]\n",
      "[99. 66. 31. 52.  7. 84. 86. 43. 68.  1.]\n"
     ]
    }
   ],
   "source": [
    "randomarr=np.random.uniform(0,100,10)\n",
    "upper=np.ceil(randomarr)\n",
    "print(upper)\n",
    "lower=np.floor(randomarr)\n",
    "print(lower)\n",
    "truncated=np.trunc(randomarr)\n",
    "print(truncated)\n",
    "nearestinteger=np.rint(randomarr)\n",
    "print(nearestinteger)\n",
    "def randtrunc(somefloatarr):\n",
    "    coinflip=np.random.binomial(1,0.5,len(somefloatarr))\n",
    "    print(coinflip)\n",
    "    for i in np.arange(len(somefloatarr)):\n",
    "        if coinflip[i]==0:\n",
    "            somefloatarr[i]=np.floor(somefloatarr[i])\n",
    "        else:\n",
    "            somefloatarr[i]=np.ceil(somefloatarr[i])\n",
    "    return somefloatarr\n",
    "randint=randtrunc(randomarr)\n",
    "print(randint)"
   ]
  },
  {
   "cell_type": "markdown",
   "metadata": {},
   "source": [
    "#### 37. Create a 5x5 matrix with row values ranging from 0 to 4 (★★☆)"
   ]
  },
  {
   "cell_type": "code",
   "execution_count": 96,
   "metadata": {},
   "outputs": [
    {
     "name": "stdout",
     "output_type": "stream",
     "text": [
      "[[0 1 2 3]\n",
      " [0 1 2 3]\n",
      " [0 1 2 3]\n",
      " [0 1 2 3]\n",
      " [0 1 2 3]]\n"
     ]
    }
   ],
   "source": [
    "row=np.arange(4)\n",
    "matrix1=np.tile(row,(5,1))\n",
    "print(matrix1)"
   ]
  },
  {
   "cell_type": "markdown",
   "metadata": {},
   "source": [
    "#### 38. Consider a generator function that generates 10 integers and use it to build an array (★☆☆)"
   ]
  },
  {
   "cell_type": "code",
   "execution_count": 110,
   "metadata": {},
   "outputs": [
    {
     "name": "stdout",
     "output_type": "stream",
     "text": [
      "<generator object square10 at 0x10c83bca8>\n",
      "0\n",
      "1\n",
      "4\n",
      "9\n",
      "16\n",
      "25\n",
      "36\n",
      "49\n",
      "64\n",
      "81\n"
     ]
    }
   ],
   "source": [
    "def square10():\n",
    "    for i in np.arange(10):\n",
    "        yield i*i\n",
    "squareintsout=square10()\n",
    "print(squareintsout)\n",
    "for x in squareintsout:\n",
    "    print(x)"
   ]
  },
  {
   "cell_type": "markdown",
   "metadata": {},
   "source": [
    "#### 39. Create a vector of size 10 with values ranging from 0 to 1, both excluded (★★☆)"
   ]
  },
  {
   "cell_type": "code",
   "execution_count": 119,
   "metadata": {},
   "outputs": [
    {
     "name": "stdout",
     "output_type": "stream",
     "text": [
      "0.09090909090909091\n",
      "[0.09090909 0.18181818 0.27272727 0.36363636 0.45454545 0.54545455\n",
      " 0.63636364 0.72727273 0.81818182 0.90909091]\n"
     ]
    }
   ],
   "source": [
    "fencelength=11\n",
    "fencerange=1.-0.\n",
    "step=(fencerange/fencelength)\n",
    "print(step)\n",
    "vec10=np.arange(step,1.,step)\n",
    "print(vec10)"
   ]
  },
  {
   "cell_type": "markdown",
   "metadata": {},
   "source": [
    "#### 40. Create a random vector of size 10 and sort it (★★☆)"
   ]
  },
  {
   "cell_type": "code",
   "execution_count": 123,
   "metadata": {},
   "outputs": [
    {
     "name": "stdout",
     "output_type": "stream",
     "text": [
      "[0.05475568 0.05551326 0.06031712 0.08948381 0.27827878 0.41334354\n",
      " 0.50599494 0.58543949 0.78877797 0.86243952]\n"
     ]
    }
   ],
   "source": [
    "randvec=np.random.uniform(0,1,10)\n",
    "randvec.sort()\n",
    "print(randvec)"
   ]
  },
  {
   "cell_type": "markdown",
   "metadata": {},
   "source": [
    "#### 41. How to sum a small array faster than np.sum? (★★☆)"
   ]
  },
  {
   "cell_type": "code",
   "execution_count": 124,
   "metadata": {},
   "outputs": [
    {
     "name": "stdout",
     "output_type": "stream",
     "text": [
      "6\n"
     ]
    }
   ],
   "source": [
    "x=[1,2,3]\n",
    "sum = 0\n",
    "for item in x:\n",
    "    sum +=item\n",
    "print(sum)"
   ]
  },
  {
   "cell_type": "markdown",
   "metadata": {},
   "source": [
    "#### 42. Consider two random array A and B, check if they are equal (★★☆)"
   ]
  },
  {
   "cell_type": "code",
   "execution_count": 128,
   "metadata": {},
   "outputs": [
    {
     "name": "stdout",
     "output_type": "stream",
     "text": [
      "[0.63815017 0.47601004 0.8013633  0.92327363 0.71090037 0.41865553\n",
      " 0.3577873  0.52303499 0.49066762 0.4471917  0.22724655 0.73172536\n",
      " 0.41267758 0.74372293 0.893092   0.27842394 0.47331989 0.63361236\n",
      " 0.10311462 0.26415736 0.40381452 0.60746366 0.34537907 0.78940261\n",
      " 0.37860661 0.07386983 0.03177978 0.4868637  0.3771923  0.68683646\n",
      " 0.89573014 0.77974861 0.72806138 0.43370973 0.6578711  0.03252514\n",
      " 0.37677369 0.8823973  0.96429412 0.98436507 0.00120754 0.58957204\n",
      " 0.63528587 0.06866684 0.31516237 0.70034238 0.06695433 0.53261742\n",
      " 0.02978606 0.51429206]\n",
      "[0.12808838 0.66326961 0.94790487 0.55041818 0.77863041 0.32537898\n",
      " 0.68632991 0.08222464 0.41259541 0.14720626 0.24878318 0.70587071\n",
      " 0.05309627 0.78113223 0.27450561 0.94070581 0.061568   0.77901629\n",
      " 0.23679752 0.98293397 0.13882332 0.74835894 0.09501539 0.98927705\n",
      " 0.31649151 0.02323635 0.13860288 0.22133503 0.96158043 0.39875554\n",
      " 0.05215503 0.39286682 0.11071877 0.98006386 0.41583305 0.74253024\n",
      " 0.59194815 0.08211789 0.09129452 0.60615486 0.89938116 0.51203176\n",
      " 0.74468463 0.38044427 0.16152899 0.84294917 0.59422956 0.92564719\n",
      " 0.72719868 0.26227388]\n",
      "True\n",
      "False\n"
     ]
    }
   ],
   "source": [
    "A= np.random.uniform(0,1,50)\n",
    "B=np.random.uniform(0,1,50)\n",
    "def isequal(A,B):\n",
    "    eq=True\n",
    "    for i in np.arange(len(A)):\n",
    "        if A[i]==B[i]:\n",
    "            eq=eq and True\n",
    "        else:\n",
    "            eq=False\n",
    "    return eq       \n",
    "print(A)\n",
    "print(B)\n",
    "print(isequal(A,A))\n",
    "print(isequal(A,B))        "
   ]
  },
  {
   "cell_type": "markdown",
   "metadata": {},
   "source": [
    "#### 43. Make an array immutable (read-only) (★★☆)"
   ]
  },
  {
   "cell_type": "code",
   "execution_count": 131,
   "metadata": {},
   "outputs": [
    {
     "ename": "ValueError",
     "evalue": "assignment destination is read-only",
     "output_type": "error",
     "traceback": [
      "\u001b[0;31m---------------------------------------------------------------------------\u001b[0m",
      "\u001b[0;31mValueError\u001b[0m                                Traceback (most recent call last)",
      "\u001b[0;32m<ipython-input-131-67a60724ac82>\u001b[0m in \u001b[0;36m<module>\u001b[0;34m()\u001b[0m\n\u001b[1;32m      1\u001b[0m \u001b[0msomeimmutablearray\u001b[0m\u001b[0;34m=\u001b[0m\u001b[0mnp\u001b[0m\u001b[0;34m.\u001b[0m\u001b[0mzeros\u001b[0m\u001b[0;34m(\u001b[0m\u001b[0;36m10\u001b[0m\u001b[0;34m)\u001b[0m\u001b[0;34m\u001b[0m\u001b[0m\n\u001b[1;32m      2\u001b[0m \u001b[0msomeimmutablearray\u001b[0m\u001b[0;34m.\u001b[0m\u001b[0mflags\u001b[0m\u001b[0;34m.\u001b[0m\u001b[0mwriteable\u001b[0m\u001b[0;34m=\u001b[0m\u001b[0;32mFalse\u001b[0m\u001b[0;34m\u001b[0m\u001b[0m\n\u001b[0;32m----> 3\u001b[0;31m \u001b[0msomeimmutablearray\u001b[0m\u001b[0;34m[\u001b[0m\u001b[0;36m0\u001b[0m\u001b[0;34m]\u001b[0m\u001b[0;34m=\u001b[0m\u001b[0;36m1\u001b[0m\u001b[0;34m\u001b[0m\u001b[0m\n\u001b[0m",
      "\u001b[0;31mValueError\u001b[0m: assignment destination is read-only"
     ]
    }
   ],
   "source": [
    "someimmutablearray=np.zeros(10)\n",
    "someimmutablearray.flags.writeable=False\n",
    "someimmutablearray[0]=1"
   ]
  },
  {
   "cell_type": "markdown",
   "metadata": {},
   "source": [
    "#### 44. Consider a random 10x2 matrix representing cartesian coordinates, convert them to polar coordinates (★★☆)"
   ]
  },
  {
   "cell_type": "code",
   "execution_count": 141,
   "metadata": {},
   "outputs": [
    {
     "name": "stdout",
     "output_type": "stream",
     "text": [
      "rank 10, 2 tensor; 2 dimensional flat spacetime\n",
      "[[0.89354156 1.07781643]\n",
      " [9.26986323 2.81518725]\n",
      " [7.87851428 1.77344418]\n",
      " [3.16062211 9.46796234]\n",
      " [7.48017018 3.7904535 ]\n",
      " [7.30864994 8.1486106 ]\n",
      " [9.74185039 2.09278867]\n",
      " [1.78252695 4.60975788]\n",
      " [2.25790358 6.12448917]\n",
      " [0.94042743 4.47021573]]\n",
      "[[ 1.40003742  0.87860343]\n",
      " [ 9.68791224  0.29484089]\n",
      " [ 8.07564805  0.22140849]\n",
      " [ 9.98157517  1.24860528]\n",
      " [ 8.38573095  0.46901996]\n",
      " [10.9460595   0.83968562]\n",
      " [ 9.96410625  0.21160846]\n",
      " [ 4.94239517  1.20182032]\n",
      " [ 6.52744178  1.21758846]\n",
      " [ 4.5680666   1.36344376]]\n"
     ]
    }
   ],
   "source": [
    "import math\n",
    "print(\"rank 10, 2 tensor; 2 dimensional flat spacetime\")\n",
    "randtensor=np.random.uniform(0,10,(10,2))\n",
    "print(randtensor)\n",
    "polartensor=[]\n",
    "for line in randtensor:\n",
    "    x=line[0]\n",
    "    y=line[1]\n",
    "    radius=math.sqrt(x**2+y**2)\n",
    "    phi=math.atan2(y,x)\n",
    "    polarline=np.array([radius,phi])\n",
    "    polartensor.append(polarline)\n",
    "polartensor=np.array(polartensor)\n",
    "print(polartensor)"
   ]
  },
  {
   "cell_type": "markdown",
   "metadata": {},
   "source": [
    "#### 45. Create random vector of size 10 and replace the maximum value by 0 (★★☆)"
   ]
  },
  {
   "cell_type": "code",
   "execution_count": 145,
   "metadata": {},
   "outputs": [
    {
     "name": "stdout",
     "output_type": "stream",
     "text": [
      "[0.35869401 0.34597503 0.87035795 0.10087658 0.64208859 0.26946525\n",
      " 0.26653948 0.22273365 0.02088395 0.73048202]\n",
      "[0.35869401 0.34597503 0.         0.10087658 0.64208859 0.26946525\n",
      " 0.26653948 0.22273365 0.02088395 0.73048202]\n"
     ]
    }
   ],
   "source": [
    "randvec=np.random.uniform(0,1,10)\n",
    "print(randvec)\n",
    "maxnum=np.max(randvec)\n",
    "for i in np.arange(len(randvec)):\n",
    "    if randvec[i]==maxnum:\n",
    "        randvec[i]=0\n",
    "print(randvec)"
   ]
  },
  {
   "cell_type": "markdown",
   "metadata": {},
   "source": [
    "#### 46. Create a structured array with `x` and `y` coordinates covering the \\[0,1\\]x\\[0,1\\] area (★★☆)"
   ]
  },
  {
   "cell_type": "code",
   "execution_count": 160,
   "metadata": {},
   "outputs": [
    {
     "name": "stdout",
     "output_type": "stream",
     "text": [
      "[0.         0.01010101 0.02020202 0.03030303 0.04040404 0.05050505\n",
      " 0.06060606 0.07070707 0.08080808 0.09090909 0.1010101  0.11111111\n",
      " 0.12121212 0.13131313 0.14141414 0.15151515 0.16161616 0.17171717\n",
      " 0.18181818 0.19191919 0.2020202  0.21212121 0.22222222 0.23232323\n",
      " 0.24242424 0.25252525 0.26262626 0.27272727 0.28282828 0.29292929\n",
      " 0.3030303  0.31313131 0.32323232 0.33333333 0.34343434 0.35353535\n",
      " 0.36363636 0.37373737 0.38383838 0.39393939 0.4040404  0.41414141\n",
      " 0.42424242 0.43434343 0.44444444 0.45454545 0.46464646 0.47474747\n",
      " 0.48484848 0.49494949 0.50505051 0.51515152 0.52525253 0.53535354\n",
      " 0.54545455 0.55555556 0.56565657 0.57575758 0.58585859 0.5959596\n",
      " 0.60606061 0.61616162 0.62626263 0.63636364 0.64646465 0.65656566\n",
      " 0.66666667 0.67676768 0.68686869 0.6969697  0.70707071 0.71717172\n",
      " 0.72727273 0.73737374 0.74747475 0.75757576 0.76767677 0.77777778\n",
      " 0.78787879 0.7979798  0.80808081 0.81818182 0.82828283 0.83838384\n",
      " 0.84848485 0.85858586 0.86868687 0.87878788 0.88888889 0.8989899\n",
      " 0.90909091 0.91919192 0.92929293 0.93939394 0.94949495 0.95959596\n",
      " 0.96969697 0.97979798 0.98989899 1.        ]\n",
      "[[(0.        , 0.        ) (0.01010101, 0.01010101)\n",
      "  (0.02020202, 0.02020202) (0.03030303, 0.03030303)\n",
      "  (0.04040404, 0.04040404) (0.05050505, 0.05050505)\n",
      "  (0.06060606, 0.06060606) (0.07070707, 0.07070707)\n",
      "  (0.08080808, 0.08080808) (0.09090909, 0.09090909)\n",
      "  (0.1010101 , 0.1010101 ) (0.11111111, 0.11111111)\n",
      "  (0.12121212, 0.12121212) (0.13131313, 0.13131313)\n",
      "  (0.14141414, 0.14141414) (0.15151516, 0.15151516)\n",
      "  (0.16161616, 0.16161616) (0.17171717, 0.17171717)\n",
      "  (0.18181819, 0.18181819) (0.1919192 , 0.1919192 )\n",
      "  (0.2020202 , 0.2020202 ) (0.21212122, 0.21212122)\n",
      "  (0.22222222, 0.22222222) (0.23232323, 0.23232323)\n",
      "  (0.24242425, 0.24242425) (0.25252524, 0.25252524)\n",
      "  (0.26262626, 0.26262626) (0.27272728, 0.27272728)\n",
      "  (0.28282827, 0.28282827) (0.2929293 , 0.2929293 )\n",
      "  (0.3030303 , 0.3030303 ) (0.3131313 , 0.3131313 )\n",
      "  (0.32323232, 0.32323232) (0.33333334, 0.33333334)\n",
      "  (0.34343433, 0.34343433) (0.35353535, 0.35353535)\n",
      "  (0.36363637, 0.36363637) (0.37373737, 0.37373737)\n",
      "  (0.3838384 , 0.3838384 ) (0.3939394 , 0.3939394 )\n",
      "  (0.4040404 , 0.4040404 ) (0.41414142, 0.41414142)\n",
      "  (0.42424244, 0.42424244) (0.43434343, 0.43434343)\n",
      "  (0.44444445, 0.44444445) (0.45454547, 0.45454547)\n",
      "  (0.46464646, 0.46464646) (0.47474748, 0.47474748)\n",
      "  (0.4848485 , 0.4848485 ) (0.4949495 , 0.4949495 )\n",
      "  (0.5050505 , 0.5050505 ) (0.5151515 , 0.5151515 )\n",
      "  (0.5252525 , 0.5252525 ) (0.53535354, 0.53535354)\n",
      "  (0.54545456, 0.54545456) (0.5555556 , 0.5555556 )\n",
      "  (0.56565654, 0.56565654) (0.57575756, 0.57575756)\n",
      "  (0.5858586 , 0.5858586 ) (0.5959596 , 0.5959596 )\n",
      "  (0.6060606 , 0.6060606 ) (0.61616164, 0.61616164)\n",
      "  (0.6262626 , 0.6262626 ) (0.6363636 , 0.6363636 )\n",
      "  (0.64646465, 0.64646465) (0.65656567, 0.65656567)\n",
      "  (0.6666667 , 0.6666667 ) (0.67676765, 0.67676765)\n",
      "  (0.68686867, 0.68686867) (0.6969697 , 0.6969697 )\n",
      "  (0.7070707 , 0.7070707 ) (0.7171717 , 0.7171717 )\n",
      "  (0.72727275, 0.72727275) (0.7373737 , 0.7373737 )\n",
      "  (0.74747473, 0.74747473) (0.75757575, 0.75757575)\n",
      "  (0.7676768 , 0.7676768 ) (0.7777778 , 0.7777778 )\n",
      "  (0.7878788 , 0.7878788 ) (0.7979798 , 0.7979798 )\n",
      "  (0.8080808 , 0.8080808 ) (0.8181818 , 0.8181818 )\n",
      "  (0.82828283, 0.82828283) (0.83838385, 0.83838385)\n",
      "  (0.8484849 , 0.8484849 ) (0.85858583, 0.85858583)\n",
      "  (0.86868685, 0.86868685) (0.8787879 , 0.8787879 )\n",
      "  (0.8888889 , 0.8888889 ) (0.8989899 , 0.8989899 )\n",
      "  (0.90909094, 0.90909094) (0.9191919 , 0.9191919 )\n",
      "  (0.9292929 , 0.9292929 ) (0.93939394, 0.93939394)\n",
      "  (0.94949496, 0.94949496) (0.959596  , 0.959596  )\n",
      "  (0.969697  , 0.969697  ) (0.97979796, 0.97979796)\n",
      "  (0.989899  , 0.989899  ) (1.        , 1.        )]\n",
      " [(0.        , 0.        ) (0.01010101, 0.01010101)\n",
      "  (0.02020202, 0.02020202) (0.03030303, 0.03030303)\n",
      "  (0.04040404, 0.04040404) (0.05050505, 0.05050505)\n",
      "  (0.06060606, 0.06060606) (0.07070707, 0.07070707)\n",
      "  (0.08080808, 0.08080808) (0.09090909, 0.09090909)\n",
      "  (0.1010101 , 0.1010101 ) (0.11111111, 0.11111111)\n",
      "  (0.12121212, 0.12121212) (0.13131313, 0.13131313)\n",
      "  (0.14141414, 0.14141414) (0.15151516, 0.15151516)\n",
      "  (0.16161616, 0.16161616) (0.17171717, 0.17171717)\n",
      "  (0.18181819, 0.18181819) (0.1919192 , 0.1919192 )\n",
      "  (0.2020202 , 0.2020202 ) (0.21212122, 0.21212122)\n",
      "  (0.22222222, 0.22222222) (0.23232323, 0.23232323)\n",
      "  (0.24242425, 0.24242425) (0.25252524, 0.25252524)\n",
      "  (0.26262626, 0.26262626) (0.27272728, 0.27272728)\n",
      "  (0.28282827, 0.28282827) (0.2929293 , 0.2929293 )\n",
      "  (0.3030303 , 0.3030303 ) (0.3131313 , 0.3131313 )\n",
      "  (0.32323232, 0.32323232) (0.33333334, 0.33333334)\n",
      "  (0.34343433, 0.34343433) (0.35353535, 0.35353535)\n",
      "  (0.36363637, 0.36363637) (0.37373737, 0.37373737)\n",
      "  (0.3838384 , 0.3838384 ) (0.3939394 , 0.3939394 )\n",
      "  (0.4040404 , 0.4040404 ) (0.41414142, 0.41414142)\n",
      "  (0.42424244, 0.42424244) (0.43434343, 0.43434343)\n",
      "  (0.44444445, 0.44444445) (0.45454547, 0.45454547)\n",
      "  (0.46464646, 0.46464646) (0.47474748, 0.47474748)\n",
      "  (0.4848485 , 0.4848485 ) (0.4949495 , 0.4949495 )\n",
      "  (0.5050505 , 0.5050505 ) (0.5151515 , 0.5151515 )\n",
      "  (0.5252525 , 0.5252525 ) (0.53535354, 0.53535354)\n",
      "  (0.54545456, 0.54545456) (0.5555556 , 0.5555556 )\n",
      "  (0.56565654, 0.56565654) (0.57575756, 0.57575756)\n",
      "  (0.5858586 , 0.5858586 ) (0.5959596 , 0.5959596 )\n",
      "  (0.6060606 , 0.6060606 ) (0.61616164, 0.61616164)\n",
      "  (0.6262626 , 0.6262626 ) (0.6363636 , 0.6363636 )\n",
      "  (0.64646465, 0.64646465) (0.65656567, 0.65656567)\n",
      "  (0.6666667 , 0.6666667 ) (0.67676765, 0.67676765)\n",
      "  (0.68686867, 0.68686867) (0.6969697 , 0.6969697 )\n",
      "  (0.7070707 , 0.7070707 ) (0.7171717 , 0.7171717 )\n",
      "  (0.72727275, 0.72727275) (0.7373737 , 0.7373737 )\n",
      "  (0.74747473, 0.74747473) (0.75757575, 0.75757575)\n",
      "  (0.7676768 , 0.7676768 ) (0.7777778 , 0.7777778 )\n",
      "  (0.7878788 , 0.7878788 ) (0.7979798 , 0.7979798 )\n",
      "  (0.8080808 , 0.8080808 ) (0.8181818 , 0.8181818 )\n",
      "  (0.82828283, 0.82828283) (0.83838385, 0.83838385)\n",
      "  (0.8484849 , 0.8484849 ) (0.85858583, 0.85858583)\n",
      "  (0.86868685, 0.86868685) (0.8787879 , 0.8787879 )\n",
      "  (0.8888889 , 0.8888889 ) (0.8989899 , 0.8989899 )\n",
      "  (0.90909094, 0.90909094) (0.9191919 , 0.9191919 )\n",
      "  (0.9292929 , 0.9292929 ) (0.93939394, 0.93939394)\n",
      "  (0.94949496, 0.94949496) (0.959596  , 0.959596  )\n",
      "  (0.969697  , 0.969697  ) (0.97979796, 0.97979796)\n",
      "  (0.989899  , 0.989899  ) (1.        , 1.        )]]\n"
     ]
    }
   ],
   "source": [
    "fencepostlength=99\n",
    "fencepostrange=1\n",
    "step=fencepostrange/fencepostlength\n",
    "coords=np.arange(0,1+step,step)\n",
    "print(coords)\n",
    "xy=np.array([coords,coords],dtype=[(\"x\",\"f4\"),(\"y\",\"f4\")])\n",
    "print(xy)"
   ]
  },
  {
   "cell_type": "markdown",
   "metadata": {},
   "source": [
    "####  47. Given two arrays, X and Y, construct the Cauchy matrix C (Cij =1/(xi - yj))"
   ]
  },
  {
   "cell_type": "code",
   "execution_count": 172,
   "metadata": {},
   "outputs": [
    {
     "name": "stdout",
     "output_type": "stream",
     "text": [
      "[[ 1.00000000e+09 -9.90000001e+01 -4.95000000e+01 ... -1.02061858e+00\n",
      "  -1.01020409e+00 -1.00000000e+00]\n",
      " [ 9.90000001e+01  1.00000000e+09 -9.90000001e+01 ... -1.03125003e+00\n",
      "  -1.02061858e+00 -1.01020409e+00]\n",
      " [ 4.95000000e+01  9.90000001e+01  1.00000000e+09 ... -1.04210531e+00\n",
      "  -1.03125003e+00 -1.02061858e+00]\n",
      " ...\n",
      " [ 1.02061858e+00  1.03125003e+00  1.04210531e+00 ...  1.00000000e+09\n",
      "  -9.89998997e+01 -4.94999498e+01]\n",
      " [ 1.01020409e+00  1.02061858e+00  1.03125003e+00 ...  9.89998997e+01\n",
      "   1.00000000e+09 -9.89998997e+01]\n",
      " [ 1.00000000e+00  1.01020409e+00  1.02061858e+00 ...  4.94999498e+01\n",
      "   9.89998997e+01  1.00000000e+09]]\n"
     ]
    }
   ],
   "source": [
    "cij=[]\n",
    "for xi in xy['x'][0]:\n",
    "    cijline=[]\n",
    "    for yi in xy['y'][0]:\n",
    "        if (yi==xi):\n",
    "            cijline.append(1000000000.)\n",
    "        else:\n",
    "            cijline.append(1./(xi-yi))\n",
    "    cijline=np.array(cijline)\n",
    "    cij.append(cijline)\n",
    "cij=np.array(cij)\n",
    "CIJstruct=np.array([cij], dtype=[(\"Cij\",\"f4\")])\n",
    "print(cij)"
   ]
  },
  {
   "cell_type": "markdown",
   "metadata": {},
   "source": [
    "#### 48. Print the minimum and maximum representable value for each numpy scalar type (★★☆)"
   ]
  },
  {
   "cell_type": "code",
   "execution_count": 181,
   "metadata": {},
   "outputs": [
    {
     "data": {
      "text/plain": [
       "sys.float_info(max=1.7976931348623157e+308, max_exp=1024, max_10_exp=308, min=2.2250738585072014e-308, min_exp=-1021, min_10_exp=-307, dig=15, mant_dig=53, epsilon=2.220446049250313e-16, radix=2, rounds=1)"
      ]
     },
     "execution_count": 181,
     "metadata": {},
     "output_type": "execute_result"
    }
   ],
   "source": [
    "import sys\n",
    "sys.float_info\n",
    "sys.int_info\n",
    "sys.float_info"
   ]
  },
  {
   "cell_type": "markdown",
   "metadata": {},
   "source": [
    "#### 49. How to print all the values of an array? (★★☆)"
   ]
  },
  {
   "cell_type": "code",
   "execution_count": 183,
   "metadata": {},
   "outputs": [
    {
     "ename": "AttributeError",
     "evalue": "module 'numpy' has no attribute 'nanny'",
     "output_type": "error",
     "traceback": [
      "\u001b[0;31m---------------------------------------------------------------------------\u001b[0m",
      "\u001b[0;31mAttributeError\u001b[0m                            Traceback (most recent call last)",
      "\u001b[0;32m<ipython-input-183-4040c0b3bfcb>\u001b[0m in \u001b[0;36m<module>\u001b[0;34m()\u001b[0m\n\u001b[0;32m----> 1\u001b[0;31m \u001b[0mnp\u001b[0m\u001b[0;34m.\u001b[0m\u001b[0mset_printoptions\u001b[0m\u001b[0;34m(\u001b[0m\u001b[0mthreshold\u001b[0m\u001b[0;34m=\u001b[0m\u001b[0mnp\u001b[0m\u001b[0;34m.\u001b[0m\u001b[0mnanny\u001b[0m\u001b[0;34m)\u001b[0m\u001b[0;34m\u001b[0m\u001b[0m\n\u001b[0m",
      "\u001b[0;31mAttributeError\u001b[0m: module 'numpy' has no attribute 'nanny'"
     ]
    }
   ],
   "source": [
    "np.set_printoptions(threshold=np.nanny)"
   ]
  },
  {
   "cell_type": "markdown",
   "metadata": {},
   "source": [
    "#### 50. How to find the closest value (to a given scalar) in a vector? (★★☆)"
   ]
  },
  {
   "cell_type": "code",
   "execution_count": 185,
   "metadata": {},
   "outputs": [
    {
     "name": "stdout",
     "output_type": "stream",
     "text": [
      "33.23633647553492\n",
      "[49.50901527 10.04102888 28.50755253 33.23633648 12.06175654 44.11625296\n",
      " 29.56490997 32.32951887 18.00320046  4.97033276]\n"
     ]
    }
   ],
   "source": [
    "myvec=np.random.uniform(0,50,10)\n",
    "myscalar=36\n",
    "closest=myvec[0]\n",
    "for i in np.arange(len(myvec)):\n",
    "    if np.abs(myvec[i]-myscalar)<np.abs(closest-myscalar):\n",
    "        closest=myvec[i]\n",
    "print(closest)\n",
    "print(myvec)"
   ]
  },
  {
   "cell_type": "markdown",
   "metadata": {},
   "source": [
    "#### 51. Create a structured array representing a position (x,y) and a color (r,g,b) (★★☆)"
   ]
  },
  {
   "cell_type": "code",
   "execution_count": 51,
   "metadata": {
    "scrolled": false
   },
   "outputs": [
    {
     "name": "stdout",
     "output_type": "stream",
     "text": [
      "(1., 1., 0.14539982, 0.06292658, 0.97182477)\n"
     ]
    }
   ],
   "source": [
    "\n",
    "rrand=np.random.uniform(0,1)\n",
    "brand=np.random.uniform(0,1)\n",
    "grand=np.random.uniform(0,1)\n",
    "xyrbg=np.array([(1.,1., rrand,brand,grand)],dtype=[(\"x\",\"f4\"),(\"y\",\"f4\"),('r',\"f4\"),(\"b\",\"f4\"),(\"g\",\"f4\")])\n",
    "for x in xyrbg:\n",
    "    print(x)\n"
   ]
  },
  {
   "cell_type": "markdown",
   "metadata": {},
   "source": [
    "#### 52. Consider a random vector with shape (100,2) representing coordinates, find point by point distances (★★☆)"
   ]
  },
  {
   "cell_type": "code",
   "execution_count": 74,
   "metadata": {},
   "outputs": [
    {
     "name": "stdout",
     "output_type": "stream",
     "text": [
      "[[ 0.         12.48782047  6.31216572 ... 12.15982181 14.73159184\n",
      "   5.65695249]\n",
      " [12.48782047  0.          6.64132432 ...  6.49366726 24.00071353\n",
      "   7.43934706]\n",
      " [ 6.31216572  6.64132432  0.         ...  9.03911492 19.94718814\n",
      "   0.79841176]\n",
      " ...\n",
      " [12.15982181  6.49366726  9.03911492 ...  0.         19.58414066\n",
      "   9.62991924]\n",
      " [14.73159184 24.00071353 19.94718814 ... 19.58414066  0.\n",
      "  19.5788277 ]\n",
      " [ 5.65695249  7.43934706  0.79841176 ...  9.62991924 19.5788277\n",
      "   0.        ]]\n"
     ]
    }
   ],
   "source": [
    "randcoord=np.random.uniform(-10,10,(100,2))\n",
    "def distance(xy1,xy2):\n",
    "    x1=xy1[0]\n",
    "    y1=xy1[1]\n",
    "    x2=xy2[0]\n",
    "    y2=xy2[1]\n",
    "    rsq=(x1-x2)**2+(y1-y2)**2\n",
    "    return np.sqrt(rsq)\n",
    "dij=np.zeros([randcoord.shape[0], randcoord.shape[0]])\n",
    "i=0\n",
    "j=0\n",
    "for xy1 in randcoord:    \n",
    "    j=0\n",
    "    for xy2 in randcoord:\n",
    "        dij[i,j]=distance(xy1,xy2)\n",
    "        j+=1\n",
    "    i+=1\n",
    "print(dij)"
   ]
  },
  {
   "cell_type": "markdown",
   "metadata": {},
   "source": [
    "#### 53. How to convert a float (32 bits) array into an integer (32 bits) in place?"
   ]
  },
  {
   "cell_type": "code",
   "execution_count": 79,
   "metadata": {},
   "outputs": [
    {
     "data": {
      "text/plain": [
       "1"
      ]
     },
     "execution_count": 79,
     "metadata": {},
     "output_type": "execute_result"
    }
   ],
   "source": [
    "myfloat=1.\n",
    "int(myfloat)"
   ]
  },
  {
   "cell_type": "markdown",
   "metadata": {},
   "source": [
    "#### 54. How to read the following file? (★★☆)"
   ]
  },
  {
   "cell_type": "markdown",
   "metadata": {},
   "source": [
    "```\n",
    "1, 2, 3, 4, 5\n",
    "6,  ,  , 7, 8\n",
    " ,  , 9,10,11\n",
    "```"
   ]
  },
  {
   "cell_type": "code",
   "execution_count": 21,
   "metadata": {},
   "outputs": [
    {
     "name": "stdout",
     "output_type": "stream",
     "text": [
      "[[ 1.  2.  3.  4.  5.]\n",
      " [ 6.  0.  0.  7.  8.]\n",
      " [ 0.  0.  9. 10. 11.]]\n"
     ]
    }
   ],
   "source": [
    "import numpy as np\n",
    "f=open(\"FileToRead.txt\",\"r\")\n",
    "flines=f.readlines()\n",
    "farray=[]\n",
    "\n",
    "for line in flines:\n",
    "    linelist=line.replace(\"\\n\",\"\").split(',')\n",
    "    #intlinelist=map((lambda x: int(x)),linelist)\n",
    "    intlinelist=np.ones(len(linelist))\n",
    "    for i in np.arange(len(linelist)):\n",
    "        ll=linelist[i].strip()\n",
    "        if ll=='':\n",
    "            intlinelist[i]=0\n",
    "        else:\n",
    "            intlinelist[i]=int(ll)\n",
    "    farray.append(np.array(intlinelist))\n",
    "print(np.array(farray))\n"
   ]
  },
  {
   "cell_type": "markdown",
   "metadata": {},
   "source": [
    "#### 55. What is the equivalent of enumerate for numpy arrays? (★★☆)"
   ]
  },
  {
   "cell_type": "code",
   "execution_count": null,
   "metadata": {},
   "outputs": [],
   "source": []
  },
  {
   "cell_type": "markdown",
   "metadata": {},
   "source": [
    "#### 56. Generate a generic 2D Gaussian-like array (★★☆)"
   ]
  },
  {
   "cell_type": "code",
   "execution_count": 24,
   "metadata": {},
   "outputs": [
    {
     "name": "stdout",
     "output_type": "stream",
     "text": [
      "[[-8.90817567  1.72049729  1.58302377  4.26445675  0.41589201 -0.05773256]\n",
      " [ 0.82109143 -1.59877468 -0.35390387 -0.48374093  3.93121868  5.17708477]\n",
      " [ 0.58146242  3.72191282 -1.97973714  2.2276234   9.44508604  0.44447582]]\n"
     ]
    }
   ],
   "source": [
    "mean=2.\n",
    "std=4.\n",
    "dimension=[3,6]\n",
    "normrand=np.random.normal(mean,std,dimension)\n",
    "print(normrand)"
   ]
  },
  {
   "cell_type": "markdown",
   "metadata": {},
   "source": [
    "#### 57. How to randomly place p elements in a 2D array? (★★☆)"
   ]
  },
  {
   "cell_type": "code",
   "execution_count": 36,
   "metadata": {},
   "outputs": [
    {
     "name": "stdout",
     "output_type": "stream",
     "text": [
      "True\n",
      "True\n",
      "False\n",
      "True\n",
      "False\n",
      "True\n",
      "False\n",
      "False\n",
      "True\n",
      "True\n",
      "[2, 3, 5, 7, 11, 13, 17, 19, 23, 29, 31, 37, 41, 43, 47, 53, 59, 61, 67, 71, 73, 79, 83, 89, 97]\n",
      "[2]\n",
      "[3]\n",
      "[2, 2]\n",
      "[2, 3]\n",
      "[2, 2, 3]\n",
      "[2, 2, 2, 3]\n",
      "[7, 7]\n",
      "[2, 2, 2, 7]\n"
     ]
    }
   ],
   "source": [
    "import numpy as np\n",
    "\n",
    "\n",
    "def isprime(p,n):\n",
    "    if p==2:\n",
    "        return True\n",
    "    elif p%n==0:\n",
    "        return False\n",
    "    elif n>p//2:\n",
    "        return True\n",
    "    else:\n",
    "        return isprime(p,n+1) \n",
    "    \n",
    "def isprimenum(p):\n",
    "    return isprime(p,2)\n",
    "\n",
    "print(isprimenum(2))\n",
    "print(isprimenum(3))\n",
    "print(isprimenum(4))\n",
    "print(isprimenum(5))\n",
    "print(isprimenum(6))\n",
    "print(isprimenum(7))\n",
    "print(isprimenum(8))\n",
    "print(isprimenum(9))\n",
    "print(isprimenum(11))\n",
    "print(isprimenum(17))\n",
    "\n",
    "def primesgen(p):\n",
    "    primelist=[]\n",
    "    for i in np.arange(2,p+1):\n",
    "        if isprimenum(i):\n",
    "            primelist.append(i)\n",
    "    return primelist\n",
    "primeslist=primesgen(100)\n",
    "print(primeslist)\n",
    "\n",
    "def factor(p,primeslist):\n",
    "    factorlist=[]\n",
    "    for item in primeslist:\n",
    "        while p%item==0:\n",
    "            p=p//item\n",
    "            factorlist.append(item)\n",
    "    return factorlist\n",
    "print(factor(2,primeslist))\n",
    "print(factor(3,primeslist))\n",
    "print(factor(4,primeslist))\n",
    "print(factor(6,primeslist))\n",
    "print(factor(12,primeslist))\n",
    "print(factor(24,primeslist))\n",
    "print(factor(49,primeslist))\n",
    "print(factor(56,primeslist))\n",
    "\n",
    "\n",
    "    "
   ]
  },
  {
   "cell_type": "code",
   "execution_count": 37,
   "metadata": {},
   "outputs": [
    {
     "name": "stdout",
     "output_type": "stream",
     "text": [
      "On branch master\n",
      "Your branch is up to date with 'origin/master'.\n",
      "\n",
      "Changes not staged for commit:\n",
      "\tmodified:   100 Numpy exercises no solution.ipynb\n",
      "\n",
      "no changes added to commit\n"
     ]
    }
   ],
   "source": [
    "%%bash\n",
    "git commit -m \"facto routine written slightly better tested\""
   ]
  },
  {
   "cell_type": "markdown",
   "metadata": {},
   "source": [
    "#### 58. Subtract the mean of each row of a matrix (★★☆)"
   ]
  },
  {
   "cell_type": "code",
   "execution_count": null,
   "metadata": {},
   "outputs": [],
   "source": []
  },
  {
   "cell_type": "markdown",
   "metadata": {},
   "source": [
    "#### 59. How to sort an array by the nth column? (★★☆)"
   ]
  },
  {
   "cell_type": "code",
   "execution_count": null,
   "metadata": {},
   "outputs": [],
   "source": []
  },
  {
   "cell_type": "markdown",
   "metadata": {},
   "source": [
    "#### 60. How to tell if a given 2D array has null columns? (★★☆)"
   ]
  },
  {
   "cell_type": "code",
   "execution_count": null,
   "metadata": {},
   "outputs": [],
   "source": []
  },
  {
   "cell_type": "markdown",
   "metadata": {},
   "source": [
    "#### 61. Find the nearest value from a given value in an array (★★☆)"
   ]
  },
  {
   "cell_type": "code",
   "execution_count": null,
   "metadata": {},
   "outputs": [],
   "source": []
  },
  {
   "cell_type": "markdown",
   "metadata": {},
   "source": [
    "#### 62. Considering two arrays with shape (1,3) and (3,1), how to compute their sum using an iterator? (★★☆)"
   ]
  },
  {
   "cell_type": "code",
   "execution_count": null,
   "metadata": {},
   "outputs": [],
   "source": []
  },
  {
   "cell_type": "markdown",
   "metadata": {},
   "source": [
    "#### 63. Create an array class that has a name attribute (★★☆)"
   ]
  },
  {
   "cell_type": "code",
   "execution_count": null,
   "metadata": {},
   "outputs": [],
   "source": []
  },
  {
   "cell_type": "markdown",
   "metadata": {},
   "source": [
    "#### 64. Consider a given vector, how to add 1 to each element indexed by a second vector (be careful with repeated indices)? (★★★)"
   ]
  },
  {
   "cell_type": "code",
   "execution_count": null,
   "metadata": {},
   "outputs": [],
   "source": []
  },
  {
   "cell_type": "markdown",
   "metadata": {},
   "source": [
    "#### 65. How to accumulate elements of a vector (X) to an array (F) based on an index list (I)? (★★★)"
   ]
  },
  {
   "cell_type": "code",
   "execution_count": null,
   "metadata": {},
   "outputs": [],
   "source": []
  },
  {
   "cell_type": "markdown",
   "metadata": {},
   "source": [
    "#### 66. Considering a (w,h,3) image of (dtype=ubyte), compute the number of unique colors (★★★)"
   ]
  },
  {
   "cell_type": "code",
   "execution_count": null,
   "metadata": {},
   "outputs": [],
   "source": []
  },
  {
   "cell_type": "markdown",
   "metadata": {},
   "source": [
    "#### 67. Considering a four dimensions array, how to get sum over the last two axis at once? (★★★)"
   ]
  },
  {
   "cell_type": "code",
   "execution_count": null,
   "metadata": {},
   "outputs": [],
   "source": []
  },
  {
   "cell_type": "markdown",
   "metadata": {},
   "source": [
    "#### 68. Considering a one-dimensional vector D, how to compute means of subsets of D using a vector S of same size describing subset  indices? (★★★)"
   ]
  },
  {
   "cell_type": "code",
   "execution_count": null,
   "metadata": {},
   "outputs": [],
   "source": []
  },
  {
   "cell_type": "markdown",
   "metadata": {},
   "source": [
    "#### 69. How to get the diagonal of a dot product? (★★★)"
   ]
  },
  {
   "cell_type": "code",
   "execution_count": null,
   "metadata": {},
   "outputs": [],
   "source": []
  },
  {
   "cell_type": "markdown",
   "metadata": {},
   "source": [
    "#### 70. Consider the vector \\[1, 2, 3, 4, 5\\], how to build a new vector with 3 consecutive zeros interleaved between each value? (★★★)"
   ]
  },
  {
   "cell_type": "code",
   "execution_count": null,
   "metadata": {},
   "outputs": [],
   "source": []
  },
  {
   "cell_type": "markdown",
   "metadata": {},
   "source": [
    "#### 71. Consider an array of dimension (5,5,3), how to mulitply it by an array with dimensions (5,5)? (★★★)"
   ]
  },
  {
   "cell_type": "code",
   "execution_count": null,
   "metadata": {
    "collapsed": true
   },
   "outputs": [],
   "source": []
  },
  {
   "cell_type": "markdown",
   "metadata": {},
   "source": [
    "#### 72. How to swap two rows of an array? (★★★)"
   ]
  },
  {
   "cell_type": "code",
   "execution_count": null,
   "metadata": {},
   "outputs": [],
   "source": []
  },
  {
   "cell_type": "markdown",
   "metadata": {},
   "source": [
    "#### 73. Consider a set of 10 triplets describing 10 triangles (with shared vertices), find the set of unique line segments composing all the  triangles (★★★)"
   ]
  },
  {
   "cell_type": "code",
   "execution_count": null,
   "metadata": {},
   "outputs": [],
   "source": []
  },
  {
   "cell_type": "markdown",
   "metadata": {},
   "source": [
    "#### 74. Given an array C that is a bincount, how to produce an array A such that np.bincount(A) == C? (★★★)"
   ]
  },
  {
   "cell_type": "code",
   "execution_count": null,
   "metadata": {},
   "outputs": [],
   "source": []
  },
  {
   "cell_type": "markdown",
   "metadata": {},
   "source": [
    "#### 75. How to compute averages using a sliding window over an array? (★★★)"
   ]
  },
  {
   "cell_type": "code",
   "execution_count": null,
   "metadata": {},
   "outputs": [],
   "source": []
  },
  {
   "cell_type": "markdown",
   "metadata": {},
   "source": [
    "#### 76. Consider a one-dimensional array Z, build a two-dimensional array whose first row is (Z\\[0\\],Z\\[1\\],Z\\[2\\]) and each subsequent row is  shifted by 1 (last row should be (Z\\[-3\\],Z\\[-2\\],Z\\[-1\\]) (★★★)"
   ]
  },
  {
   "cell_type": "code",
   "execution_count": null,
   "metadata": {},
   "outputs": [],
   "source": []
  },
  {
   "cell_type": "markdown",
   "metadata": {},
   "source": [
    "#### 77. How to negate a boolean, or to change the sign of a float inplace? (★★★)"
   ]
  },
  {
   "cell_type": "code",
   "execution_count": null,
   "metadata": {},
   "outputs": [],
   "source": []
  },
  {
   "cell_type": "markdown",
   "metadata": {},
   "source": [
    "#### 78. Consider 2 sets of points P0,P1 describing lines (2d) and a point p, how to compute distance from p to each line i  (P0\\[i\\],P1\\[i\\])? (★★★)"
   ]
  },
  {
   "cell_type": "code",
   "execution_count": null,
   "metadata": {},
   "outputs": [],
   "source": []
  },
  {
   "cell_type": "markdown",
   "metadata": {},
   "source": [
    "#### 79. Consider 2 sets of points P0,P1 describing lines (2d) and a set of points P, how to compute distance from each point j (P\\[j\\]) to each line i (P0\\[i\\],P1\\[i\\])? (★★★)"
   ]
  },
  {
   "cell_type": "code",
   "execution_count": null,
   "metadata": {},
   "outputs": [],
   "source": []
  },
  {
   "cell_type": "markdown",
   "metadata": {},
   "source": [
    "#### 80. Consider an arbitrary array, write a function that extract a subpart with a fixed shape and centered on a given element (pad with a `fill` value when necessary) (★★★)"
   ]
  },
  {
   "cell_type": "code",
   "execution_count": null,
   "metadata": {},
   "outputs": [],
   "source": []
  },
  {
   "cell_type": "markdown",
   "metadata": {},
   "source": [
    "#### 81. Consider an array Z = \\[1,2,3,4,5,6,7,8,9,10,11,12,13,14\\], how to generate an array R = \\[\\[1,2,3,4\\], \\[2,3,4,5\\], \\[3,4,5,6\\], ..., \\[11,12,13,14\\]\\]? (★★★)"
   ]
  },
  {
   "cell_type": "code",
   "execution_count": null,
   "metadata": {},
   "outputs": [],
   "source": []
  },
  {
   "cell_type": "markdown",
   "metadata": {},
   "source": [
    "#### 82. Compute a matrix rank (★★★)"
   ]
  },
  {
   "cell_type": "code",
   "execution_count": null,
   "metadata": {},
   "outputs": [],
   "source": []
  },
  {
   "cell_type": "markdown",
   "metadata": {},
   "source": [
    "#### 83. How to find the most frequent value in an array?"
   ]
  },
  {
   "cell_type": "code",
   "execution_count": null,
   "metadata": {},
   "outputs": [],
   "source": []
  },
  {
   "cell_type": "markdown",
   "metadata": {},
   "source": [
    "#### 84. Extract all the contiguous 3x3 blocks from a random 10x10 matrix (★★★)"
   ]
  },
  {
   "cell_type": "code",
   "execution_count": null,
   "metadata": {},
   "outputs": [],
   "source": []
  },
  {
   "cell_type": "markdown",
   "metadata": {},
   "source": [
    "#### 85. Create a 2D array subclass such that Z\\[i,j\\] == Z\\[j,i\\] (★★★)"
   ]
  },
  {
   "cell_type": "code",
   "execution_count": null,
   "metadata": {},
   "outputs": [],
   "source": []
  },
  {
   "cell_type": "markdown",
   "metadata": {},
   "source": [
    "#### 86. Consider a set of p matrices wich shape (n,n) and a set of p vectors with shape (n,1). How to compute the sum of of the p matrix products at once? (result has shape (n,1)) (★★★)"
   ]
  },
  {
   "cell_type": "code",
   "execution_count": null,
   "metadata": {},
   "outputs": [],
   "source": []
  },
  {
   "cell_type": "markdown",
   "metadata": {},
   "source": [
    "#### 87. Consider a 16x16 array, how to get the block-sum (block size is 4x4)? (★★★)"
   ]
  },
  {
   "cell_type": "code",
   "execution_count": null,
   "metadata": {},
   "outputs": [],
   "source": []
  },
  {
   "cell_type": "markdown",
   "metadata": {},
   "source": [
    "#### 88. How to implement the Game of Life using numpy arrays? (★★★)"
   ]
  },
  {
   "cell_type": "code",
   "execution_count": null,
   "metadata": {},
   "outputs": [],
   "source": []
  },
  {
   "cell_type": "markdown",
   "metadata": {},
   "source": [
    "#### 89. How to get the n largest values of an array (★★★)"
   ]
  },
  {
   "cell_type": "code",
   "execution_count": null,
   "metadata": {},
   "outputs": [],
   "source": []
  },
  {
   "cell_type": "markdown",
   "metadata": {},
   "source": [
    "#### 90. Given an arbitrary number of vectors, build the cartesian product (every combinations of every item) (★★★)"
   ]
  },
  {
   "cell_type": "code",
   "execution_count": null,
   "metadata": {
    "scrolled": true
   },
   "outputs": [],
   "source": []
  },
  {
   "cell_type": "markdown",
   "metadata": {},
   "source": [
    "#### 91. How to create a record array from a regular array? (★★★)"
   ]
  },
  {
   "cell_type": "code",
   "execution_count": null,
   "metadata": {},
   "outputs": [],
   "source": []
  },
  {
   "cell_type": "markdown",
   "metadata": {},
   "source": [
    "#### 92. Consider a large vector Z, compute Z to the power of 3 using 3 different methods (★★★)"
   ]
  },
  {
   "cell_type": "code",
   "execution_count": null,
   "metadata": {},
   "outputs": [],
   "source": []
  },
  {
   "cell_type": "markdown",
   "metadata": {},
   "source": [
    "#### 93. Consider two arrays A and B of shape (8,3) and (2,2). How to find rows of A that contain elements of each row of B regardless of the order of the elements in B? (★★★)"
   ]
  },
  {
   "cell_type": "code",
   "execution_count": null,
   "metadata": {},
   "outputs": [],
   "source": []
  },
  {
   "cell_type": "markdown",
   "metadata": {},
   "source": [
    "#### 94. Considering a 10x3 matrix, extract rows with unequal values (e.g. \\[2,2,3\\]) (★★★)"
   ]
  },
  {
   "cell_type": "code",
   "execution_count": null,
   "metadata": {},
   "outputs": [],
   "source": []
  },
  {
   "cell_type": "markdown",
   "metadata": {},
   "source": [
    "#### 95. Convert a vector of ints into a matrix binary representation (★★★)"
   ]
  },
  {
   "cell_type": "code",
   "execution_count": null,
   "metadata": {},
   "outputs": [],
   "source": []
  },
  {
   "cell_type": "markdown",
   "metadata": {},
   "source": [
    "#### 96. Given a two dimensional array, how to extract unique rows? (★★★)"
   ]
  },
  {
   "cell_type": "code",
   "execution_count": null,
   "metadata": {},
   "outputs": [],
   "source": []
  },
  {
   "cell_type": "markdown",
   "metadata": {},
   "source": [
    "#### 97. Considering 2 vectors A & B, write the einsum equivalent of inner, outer, sum, and mul function (★★★)"
   ]
  },
  {
   "cell_type": "code",
   "execution_count": null,
   "metadata": {},
   "outputs": [],
   "source": []
  },
  {
   "cell_type": "markdown",
   "metadata": {},
   "source": [
    "#### 98. Considering a path described by two vectors (X,Y), how to sample it using equidistant samples (★★★)?"
   ]
  },
  {
   "cell_type": "code",
   "execution_count": null,
   "metadata": {
    "collapsed": true
   },
   "outputs": [],
   "source": []
  },
  {
   "cell_type": "markdown",
   "metadata": {},
   "source": [
    "#### 99. Given an integer n and a 2D array X, select from X the rows which can be interpreted as draws from a multinomial distribution with n degrees, i.e., the rows which only contain integers and which sum to n. (★★★)"
   ]
  },
  {
   "cell_type": "code",
   "execution_count": null,
   "metadata": {},
   "outputs": [],
   "source": []
  },
  {
   "cell_type": "markdown",
   "metadata": {},
   "source": [
    "#### 100. Compute bootstrapped 95% confidence intervals for the mean of a 1D array X (i.e., resample the elements of an array with replacement N times, compute the mean of each sample, and then compute percentiles over the means). (★★★)"
   ]
  },
  {
   "cell_type": "code",
   "execution_count": null,
   "metadata": {},
   "outputs": [],
   "source": []
  }
 ],
 "metadata": {
  "kernelspec": {
   "display_name": "Python 3",
   "language": "python",
   "name": "python3"
  },
  "language_info": {
   "codemirror_mode": {
    "name": "ipython",
    "version": 3
   },
   "file_extension": ".py",
   "mimetype": "text/x-python",
   "name": "python",
   "nbconvert_exporter": "python",
   "pygments_lexer": "ipython3",
   "version": "3.6.4"
  }
 },
 "nbformat": 4,
 "nbformat_minor": 1
}
